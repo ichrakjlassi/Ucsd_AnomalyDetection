{
 "cells": [
  {
   "cell_type": "code",
   "execution_count": 3,
   "id": "8e9c1960-351d-40c4-b567-fa509d814a11",
   "metadata": {},
   "outputs": [
    {
     "name": "stdout",
     "output_type": "stream",
     "text": [
      "1. Construction du modèle...\n"
     ]
    },
    {
     "data": {
      "text/html": [
       "<pre style=\"white-space:pre;overflow-x:auto;line-height:normal;font-family:Menlo,'DejaVu Sans Mono',consolas,'Courier New',monospace\"><span style=\"font-weight: bold\">Model: \"functional_2\"</span>\n",
       "</pre>\n"
      ],
      "text/plain": [
       "\u001b[1mModel: \"functional_2\"\u001b[0m\n"
      ]
     },
     "metadata": {},
     "output_type": "display_data"
    },
    {
     "data": {
      "text/html": [
       "<pre style=\"white-space:pre;overflow-x:auto;line-height:normal;font-family:Menlo,'DejaVu Sans Mono',consolas,'Courier New',monospace\">┏━━━━━━━━━━━━━━━━━━━━━━━━━━━━━━━━━┳━━━━━━━━━━━━━━━━━━━━━━━━┳━━━━━━━━━━━━━━━┓\n",
       "┃<span style=\"font-weight: bold\"> Layer (type)                    </span>┃<span style=\"font-weight: bold\"> Output Shape           </span>┃<span style=\"font-weight: bold\">       Param # </span>┃\n",
       "┡━━━━━━━━━━━━━━━━━━━━━━━━━━━━━━━━━╇━━━━━━━━━━━━━━━━━━━━━━━━╇━━━━━━━━━━━━━━━┩\n",
       "│ input_layer_2 (<span style=\"color: #0087ff; text-decoration-color: #0087ff\">InputLayer</span>)      │ (<span style=\"color: #00d7ff; text-decoration-color: #00d7ff\">None</span>, <span style=\"color: #00af00; text-decoration-color: #00af00\">5</span>, <span style=\"color: #00af00; text-decoration-color: #00af00\">64</span>, <span style=\"color: #00af00; text-decoration-color: #00af00\">64</span>, <span style=\"color: #00af00; text-decoration-color: #00af00\">1</span>)   │             <span style=\"color: #00af00; text-decoration-color: #00af00\">0</span> │\n",
       "├─────────────────────────────────┼────────────────────────┼───────────────┤\n",
       "│ conv_lstm2d_3 (<span style=\"color: #0087ff; text-decoration-color: #0087ff\">ConvLSTM2D</span>)      │ (<span style=\"color: #00d7ff; text-decoration-color: #00d7ff\">None</span>, <span style=\"color: #00af00; text-decoration-color: #00af00\">5</span>, <span style=\"color: #00af00; text-decoration-color: #00af00\">64</span>, <span style=\"color: #00af00; text-decoration-color: #00af00\">64</span>, <span style=\"color: #00af00; text-decoration-color: #00af00\">16</span>)  │         <span style=\"color: #00af00; text-decoration-color: #00af00\">9,856</span> │\n",
       "├─────────────────────────────────┼────────────────────────┼───────────────┤\n",
       "│ batch_normalization_2           │ (<span style=\"color: #00d7ff; text-decoration-color: #00d7ff\">None</span>, <span style=\"color: #00af00; text-decoration-color: #00af00\">5</span>, <span style=\"color: #00af00; text-decoration-color: #00af00\">64</span>, <span style=\"color: #00af00; text-decoration-color: #00af00\">64</span>, <span style=\"color: #00af00; text-decoration-color: #00af00\">16</span>)  │            <span style=\"color: #00af00; text-decoration-color: #00af00\">64</span> │\n",
       "│ (<span style=\"color: #0087ff; text-decoration-color: #0087ff\">BatchNormalization</span>)            │                        │               │\n",
       "├─────────────────────────────────┼────────────────────────┼───────────────┤\n",
       "│ time_distributed_4              │ (<span style=\"color: #00d7ff; text-decoration-color: #00d7ff\">None</span>, <span style=\"color: #00af00; text-decoration-color: #00af00\">5</span>, <span style=\"color: #00af00; text-decoration-color: #00af00\">64</span>, <span style=\"color: #00af00; text-decoration-color: #00af00\">64</span>, <span style=\"color: #00af00; text-decoration-color: #00af00\">8</span>)   │         <span style=\"color: #00af00; text-decoration-color: #00af00\">1,160</span> │\n",
       "│ (<span style=\"color: #0087ff; text-decoration-color: #0087ff\">TimeDistributed</span>)               │                        │               │\n",
       "├─────────────────────────────────┼────────────────────────┼───────────────┤\n",
       "│ time_distributed_5              │ (<span style=\"color: #00d7ff; text-decoration-color: #00d7ff\">None</span>, <span style=\"color: #00af00; text-decoration-color: #00af00\">5</span>, <span style=\"color: #00af00; text-decoration-color: #00af00\">64</span>, <span style=\"color: #00af00; text-decoration-color: #00af00\">64</span>, <span style=\"color: #00af00; text-decoration-color: #00af00\">1</span>)   │            <span style=\"color: #00af00; text-decoration-color: #00af00\">73</span> │\n",
       "│ (<span style=\"color: #0087ff; text-decoration-color: #0087ff\">TimeDistributed</span>)               │                        │               │\n",
       "└─────────────────────────────────┴────────────────────────┴───────────────┘\n",
       "</pre>\n"
      ],
      "text/plain": [
       "┏━━━━━━━━━━━━━━━━━━━━━━━━━━━━━━━━━┳━━━━━━━━━━━━━━━━━━━━━━━━┳━━━━━━━━━━━━━━━┓\n",
       "┃\u001b[1m \u001b[0m\u001b[1mLayer (type)                   \u001b[0m\u001b[1m \u001b[0m┃\u001b[1m \u001b[0m\u001b[1mOutput Shape          \u001b[0m\u001b[1m \u001b[0m┃\u001b[1m \u001b[0m\u001b[1m      Param #\u001b[0m\u001b[1m \u001b[0m┃\n",
       "┡━━━━━━━━━━━━━━━━━━━━━━━━━━━━━━━━━╇━━━━━━━━━━━━━━━━━━━━━━━━╇━━━━━━━━━━━━━━━┩\n",
       "│ input_layer_2 (\u001b[38;5;33mInputLayer\u001b[0m)      │ (\u001b[38;5;45mNone\u001b[0m, \u001b[38;5;34m5\u001b[0m, \u001b[38;5;34m64\u001b[0m, \u001b[38;5;34m64\u001b[0m, \u001b[38;5;34m1\u001b[0m)   │             \u001b[38;5;34m0\u001b[0m │\n",
       "├─────────────────────────────────┼────────────────────────┼───────────────┤\n",
       "│ conv_lstm2d_3 (\u001b[38;5;33mConvLSTM2D\u001b[0m)      │ (\u001b[38;5;45mNone\u001b[0m, \u001b[38;5;34m5\u001b[0m, \u001b[38;5;34m64\u001b[0m, \u001b[38;5;34m64\u001b[0m, \u001b[38;5;34m16\u001b[0m)  │         \u001b[38;5;34m9,856\u001b[0m │\n",
       "├─────────────────────────────────┼────────────────────────┼───────────────┤\n",
       "│ batch_normalization_2           │ (\u001b[38;5;45mNone\u001b[0m, \u001b[38;5;34m5\u001b[0m, \u001b[38;5;34m64\u001b[0m, \u001b[38;5;34m64\u001b[0m, \u001b[38;5;34m16\u001b[0m)  │            \u001b[38;5;34m64\u001b[0m │\n",
       "│ (\u001b[38;5;33mBatchNormalization\u001b[0m)            │                        │               │\n",
       "├─────────────────────────────────┼────────────────────────┼───────────────┤\n",
       "│ time_distributed_4              │ (\u001b[38;5;45mNone\u001b[0m, \u001b[38;5;34m5\u001b[0m, \u001b[38;5;34m64\u001b[0m, \u001b[38;5;34m64\u001b[0m, \u001b[38;5;34m8\u001b[0m)   │         \u001b[38;5;34m1,160\u001b[0m │\n",
       "│ (\u001b[38;5;33mTimeDistributed\u001b[0m)               │                        │               │\n",
       "├─────────────────────────────────┼────────────────────────┼───────────────┤\n",
       "│ time_distributed_5              │ (\u001b[38;5;45mNone\u001b[0m, \u001b[38;5;34m5\u001b[0m, \u001b[38;5;34m64\u001b[0m, \u001b[38;5;34m64\u001b[0m, \u001b[38;5;34m1\u001b[0m)   │            \u001b[38;5;34m73\u001b[0m │\n",
       "│ (\u001b[38;5;33mTimeDistributed\u001b[0m)               │                        │               │\n",
       "└─────────────────────────────────┴────────────────────────┴───────────────┘\n"
      ]
     },
     "metadata": {},
     "output_type": "display_data"
    },
    {
     "data": {
      "text/html": [
       "<pre style=\"white-space:pre;overflow-x:auto;line-height:normal;font-family:Menlo,'DejaVu Sans Mono',consolas,'Courier New',monospace\"><span style=\"font-weight: bold\"> Total params: </span><span style=\"color: #00af00; text-decoration-color: #00af00\">11,153</span> (43.57 KB)\n",
       "</pre>\n"
      ],
      "text/plain": [
       "\u001b[1m Total params: \u001b[0m\u001b[38;5;34m11,153\u001b[0m (43.57 KB)\n"
      ]
     },
     "metadata": {},
     "output_type": "display_data"
    },
    {
     "data": {
      "text/html": [
       "<pre style=\"white-space:pre;overflow-x:auto;line-height:normal;font-family:Menlo,'DejaVu Sans Mono',consolas,'Courier New',monospace\"><span style=\"font-weight: bold\"> Trainable params: </span><span style=\"color: #00af00; text-decoration-color: #00af00\">11,121</span> (43.44 KB)\n",
       "</pre>\n"
      ],
      "text/plain": [
       "\u001b[1m Trainable params: \u001b[0m\u001b[38;5;34m11,121\u001b[0m (43.44 KB)\n"
      ]
     },
     "metadata": {},
     "output_type": "display_data"
    },
    {
     "data": {
      "text/html": [
       "<pre style=\"white-space:pre;overflow-x:auto;line-height:normal;font-family:Menlo,'DejaVu Sans Mono',consolas,'Courier New',monospace\"><span style=\"font-weight: bold\"> Non-trainable params: </span><span style=\"color: #00af00; text-decoration-color: #00af00\">32</span> (128.00 B)\n",
       "</pre>\n"
      ],
      "text/plain": [
       "\u001b[1m Non-trainable params: \u001b[0m\u001b[38;5;34m32\u001b[0m (128.00 B)\n"
      ]
     },
     "metadata": {},
     "output_type": "display_data"
    },
    {
     "name": "stdout",
     "output_type": "stream",
     "text": [
      "\n",
      "2. Chargement des données d'entraînement...\n",
      "Epoch 1/10\n",
      "\u001b[1m19/19\u001b[0m \u001b[32m━━━━━━━━━━━━━━━━━━━━\u001b[0m\u001b[37m\u001b[0m \u001b[1m5s\u001b[0m 92ms/step - loss: 0.2458 - val_loss: 0.2437\n",
      "Epoch 2/10\n",
      "\u001b[1m19/19\u001b[0m \u001b[32m━━━━━━━━━━━━━━━━━━━━\u001b[0m\u001b[37m\u001b[0m \u001b[1m1s\u001b[0m 69ms/step - loss: 0.2347 - val_loss: 0.2376\n",
      "Epoch 3/10\n",
      "\u001b[1m19/19\u001b[0m \u001b[32m━━━━━━━━━━━━━━━━━━━━\u001b[0m\u001b[37m\u001b[0m \u001b[1m1s\u001b[0m 73ms/step - loss: 0.2147 - val_loss: 0.2289\n",
      "Epoch 4/10\n",
      "\u001b[1m19/19\u001b[0m \u001b[32m━━━━━━━━━━━━━━━━━━━━\u001b[0m\u001b[37m\u001b[0m \u001b[1m1s\u001b[0m 76ms/step - loss: 0.1840 - val_loss: 0.2172\n",
      "Epoch 5/10\n",
      "\u001b[1m19/19\u001b[0m \u001b[32m━━━━━━━━━━━━━━━━━━━━\u001b[0m\u001b[37m\u001b[0m \u001b[1m2s\u001b[0m 79ms/step - loss: 0.1495 - val_loss: 0.2050\n",
      "Epoch 6/10\n",
      "\u001b[1m19/19\u001b[0m \u001b[32m━━━━━━━━━━━━━━━━━━━━\u001b[0m\u001b[37m\u001b[0m \u001b[1m2s\u001b[0m 81ms/step - loss: 0.1185 - val_loss: 0.1938\n",
      "Epoch 7/10\n",
      "\u001b[1m19/19\u001b[0m \u001b[32m━━━━━━━━━━━━━━━━━━━━\u001b[0m\u001b[37m\u001b[0m \u001b[1m2s\u001b[0m 80ms/step - loss: 0.0891 - val_loss: 0.1828\n",
      "Epoch 8/10\n",
      "\u001b[1m19/19\u001b[0m \u001b[32m━━━━━━━━━━━━━━━━━━━━\u001b[0m\u001b[37m\u001b[0m \u001b[1m2s\u001b[0m 76ms/step - loss: 0.0624 - val_loss: 0.1709\n",
      "Epoch 9/10\n",
      "\u001b[1m19/19\u001b[0m \u001b[32m━━━━━━━━━━━━━━━━━━━━\u001b[0m\u001b[37m\u001b[0m \u001b[1m1s\u001b[0m 74ms/step - loss: 0.0420 - val_loss: 0.1591\n",
      "Epoch 10/10\n",
      "\u001b[1m19/19\u001b[0m \u001b[32m━━━━━━━━━━━━━━━━━━━━\u001b[0m\u001b[37m\u001b[0m \u001b[1m1s\u001b[0m 70ms/step - loss: 0.0285 - val_loss: 0.1481\n",
      "\n",
      "3. Détection des anomalies...\n",
      "\u001b[1m24/24\u001b[0m \u001b[32m━━━━━━━━━━━━━━━━━━━━\u001b[0m\u001b[37m\u001b[0m \u001b[1m1s\u001b[0m 23ms/step\n",
      "\u001b[1m24/24\u001b[0m \u001b[32m━━━━━━━━━━━━━━━━━━━━\u001b[0m\u001b[37m\u001b[0m \u001b[1m1s\u001b[0m 21ms/step\n",
      "\n",
      "=== RÉSULTATS ===\n",
      "Anomalies détectées: 11.46%\n",
      "Seuil utilisé: 0.1481\n",
      "Résultats sauvegardés dans le dossier 'results'\n"
     ]
    }
   ],
   "source": [
    "import numpy as np\n",
    "import matplotlib.pyplot as plt\n",
    "from tensorflow.keras.layers import Input, ConvLSTM2D, BatchNormalization, TimeDistributed, Conv2D\n",
    "from tensorflow.keras.models import Model\n",
    "from tensorflow.keras.optimizers import Adam\n",
    "from tensorflow.keras.callbacks import EarlyStopping\n",
    "import cv2\n",
    "import os\n",
    "from time import time\n",
    "\n",
    "# Configuration\n",
    "os.makedirs(\"results\", exist_ok=True)\n",
    "SEQ_LEN = 5\n",
    "IMG_SIZE = (64, 64)\n",
    "BATCH_SIZE = 4\n",
    "\n",
    "# Construction du modèle\n",
    "def build_model():\n",
    "    inputs = Input(shape=(SEQ_LEN, *IMG_SIZE, 1))\n",
    "    \n",
    "    # Encoder\n",
    "    x = ConvLSTM2D(16, (3, 3), padding='same', return_sequences=True)(inputs)\n",
    "    x = BatchNormalization()(x)\n",
    "    \n",
    "    # Decoder\n",
    "    x = TimeDistributed(Conv2D(8, (3, 3), padding='same', activation='relu'))(x)\n",
    "    outputs = TimeDistributed(Conv2D(1, (3, 3), padding='same', activation='sigmoid'))(x)\n",
    "    \n",
    "    model = Model(inputs, outputs)\n",
    "    model.compile(optimizer=Adam(learning_rate=0.0001), loss='mse')\n",
    "    return model\n",
    "\n",
    "# Pré-traitement des données\n",
    "def preprocess_data(path, sample_size=100):\n",
    "    data = np.load(path, mmap_mode='r')[:sample_size]\n",
    "    processed = []\n",
    "    for frame in data:\n",
    "        frame = cv2.resize(frame.astype('float32'), IMG_SIZE) / 255.0\n",
    "        processed.append(frame[..., np.newaxis])\n",
    "    return np.array(processed)\n",
    "\n",
    "def create_sequences(frames):\n",
    "    sequences = []\n",
    "    for i in range(len(frames) - SEQ_LEN + 1):\n",
    "        sequences.append(frames[i:i+SEQ_LEN])\n",
    "    return np.array(sequences)\n",
    "\n",
    "# Entraînement\n",
    "def train_model(model, train_data):\n",
    "    sequences = create_sequences(train_data)\n",
    "    history = model.fit(\n",
    "        sequences, sequences,\n",
    "        validation_split=0.2,\n",
    "        epochs=10,\n",
    "        batch_size=BATCH_SIZE,\n",
    "        callbacks=[EarlyStopping(patience=2)],\n",
    "        verbose=1\n",
    "    )\n",
    "    return history, sequences\n",
    "\n",
    "# Détection des anomalies\n",
    "def detect_anomalies(model, data, train_sequences):\n",
    "    # Calcul du seuil\n",
    "    train_recon = model.predict(train_sequences, batch_size=BATCH_SIZE)\n",
    "    train_errors = np.mean(np.square(train_sequences - train_recon), axis=(1,2,3,4))\n",
    "    threshold = np.percentile(train_errors, 95)\n",
    "    \n",
    "    # Évaluation sur les données de test\n",
    "    test_sequences = create_sequences(data)\n",
    "    test_recon = model.predict(test_sequences, batch_size=BATCH_SIZE)\n",
    "    test_errors = np.mean(np.square(test_sequences - test_recon), axis=(1,2,3,4))\n",
    "    \n",
    "    anomalies = test_errors > threshold\n",
    "    return {\n",
    "        'threshold': threshold,\n",
    "        'anomaly_percentage': np.mean(anomalies) * 100,\n",
    "        'errors': test_errors,\n",
    "        'anomalies': anomalies\n",
    "    }\n",
    "\n",
    "# Visualisation\n",
    "def visualize_results(history, results, test_data):\n",
    "    # Courbe d'apprentissage\n",
    "    plt.figure(figsize=(12, 5))\n",
    "    plt.subplot(1, 2, 1)\n",
    "    plt.plot(history.history['loss'], label='Train')\n",
    "    plt.plot(history.history['val_loss'], label='Validation')\n",
    "    plt.title('Courbe d\\'apprentissage')\n",
    "    plt.legend()\n",
    "    \n",
    "    # Distribution des erreurs\n",
    "    plt.subplot(1, 2, 2)\n",
    "    plt.hist(results['errors'], bins=50, alpha=0.7)\n",
    "    plt.axvline(results['threshold'], color='r', linestyle='--')\n",
    "    plt.title(f\"Anomalies: {results['anomaly_percentage']:.2f}%\")\n",
    "    plt.savefig(\"results/analysis.png\")\n",
    "    plt.close()\n",
    "    \n",
    "    # Sauvegarde des résultats\n",
    "    with open(\"results/report.txt\", \"w\") as f:\n",
    "        f.write(f\"Pourcentage d'anomalies: {results['anomaly_percentage']:.2f}%\\n\")\n",
    "        f.write(f\"Seuil utilisé: {results['threshold']:.4f}\\n\")\n",
    "\n",
    "# Pipeline principal\n",
    "def main():\n",
    "    try:\n",
    "        # Initialisation\n",
    "        print(\"1. Construction du modèle...\")\n",
    "        model = build_model()\n",
    "        model.summary()\n",
    "        \n",
    "        # Entraînement\n",
    "        print(\"\\n2. Chargement des données d'entraînement...\")\n",
    "        train_data = preprocess_data(\"UCSDped1_train.npy\")\n",
    "        history, train_sequences = train_model(model, train_data)\n",
    "        \n",
    "        # Détection\n",
    "        print(\"\\n3. Détection des anomalies...\")\n",
    "        test_data = preprocess_data(\"UCSDped1_test.npy\")\n",
    "        results = detect_anomalies(model, test_data, train_sequences)\n",
    "        \n",
    "        # Visualisation\n",
    "        visualize_results(history, results, test_data)\n",
    "        \n",
    "        print(\"\\n=== RÉSULTATS ===\")\n",
    "        print(f\"Anomalies détectées: {results['anomaly_percentage']:.2f}%\")\n",
    "        print(f\"Seuil utilisé: {results['threshold']:.4f}\")\n",
    "        print(\"Résultats sauvegardés dans le dossier 'results'\")\n",
    "        \n",
    "    except Exception as e:\n",
    "        print(f\"\\nErreur: {str(e)}\")\n",
    "\n",
    "if __name__ == \"__main__\":\n",
    "    main()"
   ]
  },
  {
   "cell_type": "code",
   "execution_count": null,
   "id": "0104f90e-3a83-463c-a4d6-e4063f9d2ad7",
   "metadata": {},
   "outputs": [],
   "source": []
  }
 ],
 "metadata": {
  "kernelspec": {
   "display_name": "Python [conda env:base] *",
   "language": "python",
   "name": "conda-base-py"
  },
  "language_info": {
   "codemirror_mode": {
    "name": "ipython",
    "version": 3
   },
   "file_extension": ".py",
   "mimetype": "text/x-python",
   "name": "python",
   "nbconvert_exporter": "python",
   "pygments_lexer": "ipython3",
   "version": "3.12.7"
  }
 },
 "nbformat": 4,
 "nbformat_minor": 5
}
