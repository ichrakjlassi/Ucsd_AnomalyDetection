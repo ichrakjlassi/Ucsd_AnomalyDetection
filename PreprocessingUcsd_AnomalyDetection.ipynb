{
 "cells": [
  {
   "cell_type": "code",
   "execution_count": 17,
   "id": "c79abc53",
   "metadata": {},
   "outputs": [
    {
     "name": "stdout",
     "output_type": "stream",
     "text": [
      "Nombre de clips trouvés : 18\n"
     ]
    },
    {
     "ename": "error",
     "evalue": "OpenCV(4.11.0) D:\\a\\opencv-python\\opencv-python\\opencv\\modules\\imgproc\\src\\resize.cpp:4208: error: (-215:Assertion failed) !ssize.empty() in function 'cv::resize'\n",
     "output_type": "error",
     "traceback": [
      "\u001b[1;31m---------------------------------------------------------------------------\u001b[0m",
      "\u001b[1;31merror\u001b[0m                                     Traceback (most recent call last)",
      "Cell \u001b[1;32mIn[17], line 32\u001b[0m\n\u001b[0;32m     30\u001b[0m     \u001b[38;5;28;01mfor\u001b[39;00m fname \u001b[38;5;129;01min\u001b[39;00m frame_names:\n\u001b[0;32m     31\u001b[0m         fpath \u001b[38;5;241m=\u001b[39m os\u001b[38;5;241m.\u001b[39mpath\u001b[38;5;241m.\u001b[39mjoin(clip_dir, fname)\n\u001b[1;32m---> 32\u001b[0m         frame \u001b[38;5;241m=\u001b[39m preprocess_frame(fpath)\n\u001b[0;32m     33\u001b[0m         all_frames\u001b[38;5;241m.\u001b[39mappend(frame)\n\u001b[0;32m     35\u001b[0m \u001b[38;5;66;03m# Transformer et sauvegarder les données\u001b[39;00m\n",
      "Cell \u001b[1;32mIn[17], line 18\u001b[0m, in \u001b[0;36mpreprocess_frame\u001b[1;34m(path)\u001b[0m\n\u001b[0;32m     16\u001b[0m \u001b[38;5;28;01mdef\u001b[39;00m \u001b[38;5;21mpreprocess_frame\u001b[39m(path):\n\u001b[0;32m     17\u001b[0m     img \u001b[38;5;241m=\u001b[39m cv2\u001b[38;5;241m.\u001b[39mimread(path, cv2\u001b[38;5;241m.\u001b[39mIMREAD_GRAYSCALE)  \u001b[38;5;66;03m# lire en niveaux de gris\u001b[39;00m\n\u001b[1;32m---> 18\u001b[0m     img \u001b[38;5;241m=\u001b[39m cv2\u001b[38;5;241m.\u001b[39mresize(img, TARGET_SIZE)            \u001b[38;5;66;03m# redimensionner\u001b[39;00m\n\u001b[0;32m     19\u001b[0m     img \u001b[38;5;241m=\u001b[39m img\u001b[38;5;241m.\u001b[39mastype(\u001b[38;5;124m'\u001b[39m\u001b[38;5;124mfloat32\u001b[39m\u001b[38;5;124m'\u001b[39m) \u001b[38;5;241m/\u001b[39m \u001b[38;5;241m255.0\u001b[39m           \u001b[38;5;66;03m# normaliser [0, 1]\u001b[39;00m\n\u001b[0;32m     20\u001b[0m     \u001b[38;5;28;01mreturn\u001b[39;00m img\n",
      "\u001b[1;31merror\u001b[0m: OpenCV(4.11.0) D:\\a\\opencv-python\\opencv-python\\opencv\\modules\\imgproc\\src\\resize.cpp:4208: error: (-215:Assertion failed) !ssize.empty() in function 'cv::resize'\n"
     ]
    }
   ],
   "source": [
    "import os\n",
    "import cv2\n",
    "import numpy as np\n",
    "import matplotlib.pyplot as plt\n",
    "\n",
    "#Chemin vers les données UCSDped2 (TRAIN uniquement ici)\n",
    "DATA_PATH = r'C:\\Users\\Ichrak\\Desktop\\Mission entreprise\\UCSD_Anomaly_Dataset.v1p2\\UCSDped2\\Train'  # ou UCSDped1/Train\n",
    "OUTPUT_PATH = '../data/processed/'  # dossier de sortie\n",
    "TARGET_SIZE = (128, 128)  # dimensions à choisir selon ton modèle\n",
    "\n",
    "#Lister les clips (dossiers 001, 002, ...)\n",
    "clips = sorted(os.listdir(DATA_PATH))\n",
    "print(f\"Nombre de clips trouvés : {len(clips)}\")\n",
    "\n",
    "#Fonction de prétraitement d’une image\n",
    "def preprocess_frame(path):\n",
    "    img = cv2.imread(path, cv2.IMREAD_GRAYSCALE)  # lire en niveaux de gris\n",
    "    img = cv2.resize(img, TARGET_SIZE)            # redimensionner\n",
    "    img = img.astype('float32') / 255.0           # normaliser [0, 1]\n",
    "    return img\n",
    "\n",
    "# Boucle de traitement\n",
    "all_frames = []\n",
    "\n",
    "for clip in clips:\n",
    "    clip_dir = os.path.join(DATA_PATH, clip)\n",
    "    frame_names = sorted([d for d in os.listdir(DATA_PATH) if os.path.isdir(os.path.join(DATA_PATH, d))])\n",
    " #sorted(os.listdir(clip_dir))\n",
    "    \n",
    "    for fname in frame_names:\n",
    "        fpath = os.path.join(clip_dir, fname)\n",
    "        frame = preprocess_frame(fpath)\n",
    "        all_frames.append(frame)\n",
    "\n",
    "# Transformer et sauvegarder les données\n",
    "all_frames = np.array(all_frames)\n",
    "all_frames = np.expand_dims(all_frames, axis=1)  # (N, 1, H, W) → pour PyTorch\n",
    "print(f\"Forme finale des données : {all_frames.shape}\")\n",
    "\n",
    "os.makedirs(OUTPUT_PATH, exist_ok=True)\n",
    "np.save(os.path.join(OUTPUT_PATH, 'train_peds2.npy'), all_frames)\n",
    "print(\"Données prétraitées et sauvegardées.\")\n",
    "\n"
   ]
  },
  {
   "cell_type": "code",
   "execution_count": null,
   "id": "b279b35b",
   "metadata": {},
   "outputs": [],
   "source": []
  },
  {
   "cell_type": "code",
   "execution_count": null,
   "id": "feb75c15",
   "metadata": {},
   "outputs": [],
   "source": []
  },
  {
   "cell_type": "code",
   "execution_count": null,
   "id": "75b2114e",
   "metadata": {},
   "outputs": [],
   "source": []
  },
  {
   "cell_type": "code",
   "execution_count": null,
   "id": "a457eb68",
   "metadata": {},
   "outputs": [],
   "source": []
  }
 ],
 "metadata": {
  "kernelspec": {
   "display_name": "Python 3 (ipykernel)",
   "language": "python",
   "name": "python3"
  },
  "language_info": {
   "codemirror_mode": {
    "name": "ipython",
    "version": 3
   },
   "file_extension": ".py",
   "mimetype": "text/x-python",
   "name": "python",
   "nbconvert_exporter": "python",
   "pygments_lexer": "ipython3",
   "version": "3.11.5"
  }
 },
 "nbformat": 4,
 "nbformat_minor": 5
}
